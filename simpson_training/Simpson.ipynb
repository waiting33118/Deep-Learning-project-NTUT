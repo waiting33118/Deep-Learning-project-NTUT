{
 "cells": [
  {
   "cell_type": "code",
   "execution_count": null,
   "metadata": {},
   "outputs": [],
   "source": [
    "%config IPCompleter.greedy=True"
   ]
  },
  {
   "cell_type": "code",
   "execution_count": null,
   "metadata": {
    "executionInfo": {
     "elapsed": 4013,
     "status": "ok",
     "timestamp": 1607310985065,
     "user": {
      "displayName": "北科大-林芷羽",
      "photoUrl": "",
      "userId": "01333160709285601838"
     },
     "user_tz": -480
    },
    "id": "4WMYagENMpsz"
   },
   "outputs": [],
   "source": [
    "# 匯入相關所需的模組\n",
    "import os,sys\n",
    "import numpy as np\n",
    "import cv2\n",
    "import matplotlib.pyplot as plt\n",
    "from PIL import Image\n",
    "from random import shuffle\n",
    "\n",
    "from sklearn.model_selection import train_test_split\n",
    "\n",
    "from keras.preprocessing.image import ImageDataGenerator\n",
    "from keras.callbacks import *\n",
    "from keras.models import Sequential\n",
    "from keras.layers import *\n",
    "from keras.optimizers import *\n",
    "from keras import utils as np_utils"
   ]
  },
  {
   "cell_type": "code",
   "execution_count": null,
   "metadata": {
    "executionInfo": {
     "elapsed": 4010,
     "status": "ok",
     "timestamp": 1607310985066,
     "user": {
      "displayName": "北科大-林芷羽",
      "photoUrl": "",
      "userId": "01333160709285601838"
     },
     "user_tz": -480
    },
    "id": "suE_ol5eMps0"
   },
   "outputs": [],
   "source": [
    "images=[]\n",
    "labels=[]\n",
    "name=[]\n",
    "train_data = './characters-20'\n",
    "test_data = './test'"
   ]
  },
  {
   "cell_type": "code",
   "execution_count": null,
   "metadata": {
    "executionInfo": {
     "elapsed": 4009,
     "status": "ok",
     "timestamp": 1607310985067,
     "user": {
      "displayName": "北科大-林芷羽",
      "photoUrl": "",
      "userId": "01333160709285601838"
     },
     "user_tz": -480
    },
    "id": "op3leUwPMps0"
   },
   "outputs": [],
   "source": [
    "def read_images_labels(path,i):\n",
    "    for file in os.listdir(path):\n",
    "        abs_path=os.path.abspath(os.path.join(path,file))\n",
    "        if os.path.isdir(abs_path):\n",
    "            i+=1\n",
    "            temp=os.path.split(abs_path)[-1]\n",
    "            name.append(temp)\n",
    "            read_images_labels(abs_path,i)\n",
    "            amount=int(len(os.listdir(path)))\n",
    "            sys.stdout.write('\\r'+'>'*(i)+' '*(amount-i)+'[%s%%]'%(i*100/amount)+temp)\n",
    "        else:\n",
    "            if file.endswith('.jpg'):\n",
    "                image = cv2.resize(cv2.imread(abs_path),(64,64))\n",
    "                images.append(image)\n",
    "                labels.append(i-1)\n",
    "    return images, labels, name"
   ]
  },
  {
   "cell_type": "code",
   "execution_count": null,
   "metadata": {
    "executionInfo": {
     "elapsed": 4008,
     "status": "ok",
     "timestamp": 1607310985067,
     "user": {
      "displayName": "北科大-林芷羽",
      "photoUrl": "",
      "userId": "01333160709285601838"
     },
     "user_tz": -480
    },
    "id": "NouVZ0TZMps0"
   },
   "outputs": [],
   "source": [
    "def read_main(path):\n",
    "    images, labels, name = read_images_labels(path,i=0)\n",
    "    images=np.array(images,dtype=np.float32)/255\n",
    "    labels=np_utils.to_categorical(labels, num_classes=20)\n",
    "    np.savetxt('name.txt',name,delimiter=' ',fmt=\"%s\")\n",
    "    return images, labels"
   ]
  },
  {
   "cell_type": "code",
   "execution_count": null,
   "metadata": {
    "colab": {
     "base_uri": "https://localhost:8080/",
     "height": 322
    },
    "executionInfo": {
     "elapsed": 4480,
     "status": "error",
     "timestamp": 1607310985545,
     "user": {
      "displayName": "北科大-林芷羽",
      "photoUrl": "",
      "userId": "01333160709285601838"
     },
     "user_tz": -480
    },
    "id": "0BNyqogMMps0",
    "outputId": "dab089ca-ff27-4a44-bc34-5e19920f1e4f"
   },
   "outputs": [],
   "source": [
    "images,labels=read_main(train_data)\n",
    "X_train,X_test,Y_train,Y_test=train_test_split(images,labels,test_size=0.1)"
   ]
  },
  {
   "cell_type": "code",
   "execution_count": null,
   "metadata": {
    "executionInfo": {
     "elapsed": 4468,
     "status": "aborted",
     "timestamp": 1607310985537,
     "user": {
      "displayName": "北科大-林芷羽",
      "photoUrl": "",
      "userId": "01333160709285601838"
     },
     "user_tz": -480
    },
    "id": "4XbJwwL-Mps0"
   },
   "outputs": [],
   "source": [
    "print(images)"
   ]
  },
  {
   "cell_type": "code",
   "execution_count": null,
   "metadata": {
    "executionInfo": {
     "elapsed": 4465,
     "status": "aborted",
     "timestamp": 1607310985538,
     "user": {
      "displayName": "北科大-林芷羽",
      "photoUrl": "",
      "userId": "01333160709285601838"
     },
     "user_tz": -480
    },
    "id": "70AQi0YzMps0"
   },
   "outputs": [],
   "source": [
    "plt.imshow(X_train[2][:,:,[2,1,0]])"
   ]
  },
  {
   "cell_type": "code",
   "execution_count": null,
   "metadata": {
    "executionInfo": {
     "elapsed": 4461,
     "status": "aborted",
     "timestamp": 1607310985539,
     "user": {
      "displayName": "北科大-林芷羽",
      "photoUrl": "",
      "userId": "01333160709285601838"
     },
     "user_tz": -480
    },
    "id": "YwWoCO5vMps1"
   },
   "outputs": [],
   "source": [
    "model = Sequential()\n",
    "model.add(Conv2D(64, (3, 3), padding='same', activation='relu', input_shape=X_train.shape[1:]))\n",
    "model.add(MaxPooling2D(pool_size=(2, 2)))\n",
    "model.add(Dropout(0.2))\n",
    "    \n",
    "model.add(Conv2D(256, (3, 3), padding='same', activation='relu'))\n",
    "model.add(Conv2D(256, (3, 3), padding='same', activation='relu'))\n",
    "model.add(Conv2D(256, (3, 3), padding='same', activation='relu'))\n",
    "model.add(MaxPooling2D(pool_size=(2, 2)))\n",
    "model.add(Dropout(0.5))\n",
    "    \n",
    "model.add(Conv2D(256, (3, 3), padding='same', activation='relu'))\n",
    "model.add(MaxPooling2D(pool_size=(2, 2)))\n",
    "model.add(Dropout(0.2))\n",
    "    \n",
    "model.add(Flatten())\n",
    "model.add(Dense(512, activation='relu'))\n",
    "model.add(Dropout(0.5))\n",
    "    \n",
    "model.add(Dense(20, activation='softmax'))\n",
    "    \n",
    "\n",
    "model.summary() # 秀出模型架構"
   ]
  },
  {
   "cell_type": "code",
   "execution_count": null,
   "metadata": {
    "executionInfo": {
     "elapsed": 4460,
     "status": "aborted",
     "timestamp": 1607310985539,
     "user": {
      "displayName": "北科大-林芷羽",
      "photoUrl": "",
      "userId": "01333160709285601838"
     },
     "user_tz": -480
    },
    "id": "MWj5cw_LMps1"
   },
   "outputs": [],
   "source": [
    "# 讓我們先配置一個常用的組合來作為後續優化的基準點\n",
    "model.compile(loss='categorical_crossentropy',\n",
    "             optimizer='adam',\n",
    "             metrics=['accuracy'])"
   ]
  },
  {
   "cell_type": "code",
   "execution_count": null,
   "metadata": {
    "executionInfo": {
     "elapsed": 4456,
     "status": "aborted",
     "timestamp": 1607310985540,
     "user": {
      "displayName": "北科大-林芷羽",
      "photoUrl": "",
      "userId": "01333160709285601838"
     },
     "user_tz": -480
    },
    "id": "yRZ2EflOMps1"
   },
   "outputs": [],
   "source": [
    "epochs=50\n",
    "batch_size=64\n",
    "history = model.fit(X_train, Y_train,\n",
    "         batch_size=batch_size,\n",
    "         epochs=epochs,\n",
    "         validation_data=(X_test, Y_test),\n",
    "         shuffle=True,verbose=1)"
   ]
  },
  {
   "cell_type": "code",
   "execution_count": null,
   "metadata": {
    "executionInfo": {
     "elapsed": 4452,
     "status": "aborted",
     "timestamp": 1607310985540,
     "user": {
      "displayName": "北科大-林芷羽",
      "photoUrl": "",
      "userId": "01333160709285601838"
     },
     "user_tz": -480
    },
    "id": "ABfeYHBdMps1"
   },
   "outputs": [],
   "source": [
    "print(history.history.keys())"
   ]
  },
  {
   "cell_type": "code",
   "execution_count": null,
   "metadata": {
    "executionInfo": {
     "elapsed": 4449,
     "status": "aborted",
     "timestamp": 1607310985541,
     "user": {
      "displayName": "北科大-林芷羽",
      "photoUrl": "",
      "userId": "01333160709285601838"
     },
     "user_tz": -480
    },
    "id": "P2RF1WgoMps1"
   },
   "outputs": [],
   "source": [
    "# 透過趨勢圖來觀察訓練與驗證的走向 (特別去觀察是否有\"過擬合(overfitting)\"的現象)\n",
    "\n",
    "def plot_train_history(history, train_metrics, val_metrics):\n",
    "    plt.plot(history.history.get(train_metrics),'-o')\n",
    "    plt.plot(history.history.get(val_metrics),'-o')\n",
    "    plt.ylabel(train_metrics)\n",
    "    plt.xlabel('Epochs')\n",
    "    plt.legend(['train', 'validation'])\n",
    "    \n",
    "    \n",
    "plt.figure(figsize=(12,4))\n",
    "plt.subplot(1,2,1)\n",
    "plot_train_history(history, 'loss','val_loss')\n",
    "\n",
    "plt.subplot(1,2,2)\n",
    "plot_train_history(history, 'accuracy','val_accuracy')\n",
    "\n",
    "plt.show()"
   ]
  },
  {
   "cell_type": "code",
   "execution_count": null,
   "metadata": {
    "executionInfo": {
     "elapsed": 4446,
     "status": "aborted",
     "timestamp": 1607310985542,
     "user": {
      "displayName": "北科大-林芷羽",
      "photoUrl": "",
      "userId": "01333160709285601838"
     },
     "user_tz": -480
    },
    "id": "lSDowXVVMps1"
   },
   "outputs": [],
   "source": [
    "file_name=\"model_1_\"+str(epochs)+\"_\"+str(batch_size)\n",
    "model.save(file_name+'.h5')\n",
    "score=model.evaluate(X_test,Y_test,verbose=1)\n",
    "print(score)"
   ]
  },
  {
   "cell_type": "code",
   "execution_count": null,
   "metadata": {
    "executionInfo": {
     "elapsed": 4441,
     "status": "aborted",
     "timestamp": 1607310985542,
     "user": {
      "displayName": "北科大-林芷羽",
      "photoUrl": "",
      "userId": "01333160709285601838"
     },
     "user_tz": -480
    },
    "id": "n_y2MsV8Mps1"
   },
   "outputs": [],
   "source": [
    "image_len=len([name for name in os.listdir(test_data) if os.path.isfile(os.path.join(test_data, name))]) \n",
    "image_len"
   ]
  },
  {
   "cell_type": "code",
   "execution_count": null,
   "metadata": {
    "executionInfo": {
     "elapsed": 4440,
     "status": "aborted",
     "timestamp": 1607310985543,
     "user": {
      "displayName": "北科大-林芷羽",
      "photoUrl": "",
      "userId": "01333160709285601838"
     },
     "user_tz": -480
    },
    "id": "-_X1XadHMps1"
   },
   "outputs": [],
   "source": [
    "def read_images(path):\n",
    "    test_images = []\n",
    "    for i in range(image_len):\n",
    "            img = cv2.resize(cv2.imread(path+str(i+1)+'.jpg'),(64,64))\n",
    "            test_images.append(img)   \n",
    "    test_images=np.array(test_images,dtype=np.float32)/255.\n",
    "    return test_images"
   ]
  },
  {
   "cell_type": "code",
   "execution_count": null,
   "metadata": {
    "executionInfo": {
     "elapsed": 4436,
     "status": "aborted",
     "timestamp": 1607310985543,
     "user": {
      "displayName": "北科大-林芷羽",
      "photoUrl": "",
      "userId": "01333160709285601838"
     },
     "user_tz": -480
    },
    "id": "8IA1M3G-Mps1"
   },
   "outputs": [],
   "source": [
    "# 預測與比對\n",
    "from keras.models import load_model\n",
    "\n",
    "# 把訓練時val_loss最小的模型載入\n",
    "model = load_model('model_1_50_256.h5')\n",
    "test_img=read_images(test_data)\n",
    "# 預測與比對\n",
    "pred = model.predict_classes(test_img,verbose=1)\n",
    "#acc = np.sum(y_pred==np.argmax(y_valtest, axis=1))/np.size(y_pred)\n",
    "#print(\"Test accuracy = {}\".format(acc))\n",
    "pred"
   ]
  },
  {
   "cell_type": "code",
   "execution_count": null,
   "metadata": {
    "executionInfo": {
     "elapsed": 4432,
     "status": "aborted",
     "timestamp": 1607310985543,
     "user": {
      "displayName": "北科大-林芷羽",
      "photoUrl": "",
      "userId": "01333160709285601838"
     },
     "user_tz": -480
    },
    "id": "TnjSXoEBMps1"
   },
   "outputs": [],
   "source": [
    "nametxt=np.loadtxt('name.txt',dtype='str')\n",
    "\n",
    "name_label=[]\n",
    "name_num=0\n",
    "for i in nametxt:\n",
    "    name_label.append([name_num,i])\n",
    "    name_num+=1\n",
    "name_label"
   ]
  },
  {
   "cell_type": "code",
   "execution_count": null,
   "metadata": {
    "executionInfo": {
     "elapsed": 4429,
     "status": "aborted",
     "timestamp": 1607310985544,
     "user": {
      "displayName": "北科大-林芷羽",
      "photoUrl": "",
      "userId": "01333160709285601838"
     },
     "user_tz": -480
    },
    "id": "kQhC4iJ9Mps1"
   },
   "outputs": [],
   "source": [
    "new_pred=[]\n",
    "for i in range(len(pred)):\n",
    "    new_pred.append(name_label[pred[i]][1])\n",
    "new_pred"
   ]
  },
  {
   "cell_type": "code",
   "execution_count": null,
   "metadata": {
    "executionInfo": {
     "elapsed": 4428,
     "status": "aborted",
     "timestamp": 1607310985544,
     "user": {
      "displayName": "北科大-林芷羽",
      "photoUrl": "",
      "userId": "01333160709285601838"
     },
     "user_tz": -480
    },
    "id": "GQfW3vAoMps1"
   },
   "outputs": [],
   "source": [
    "with open('test.csv','w+') as ans:\n",
    "    ans.write('id,character\\n')\n",
    "    id=1\n",
    "    for i in range(len(new_pred)):\n",
    "        ans.write(str(id)+','+new_pred[i]+'\\n')\n",
    "        id+=1"
   ]
  },
  {
   "cell_type": "code",
   "execution_count": null,
   "metadata": {
    "executionInfo": {
     "elapsed": 4427,
     "status": "aborted",
     "timestamp": 1607310985545,
     "user": {
      "displayName": "北科大-林芷羽",
      "photoUrl": "",
      "userId": "01333160709285601838"
     },
     "user_tz": -480
    },
    "id": "mA2a_zmcMps1"
   },
   "outputs": [],
   "source": []
  }
 ],
 "metadata": {
  "colab": {
   "name": "Simpson.ipynb",
   "provenance": []
  },
  "kernelspec": {
   "display_name": "Python 3",
   "language": "python",
   "name": "python3"
  },
  "language_info": {
   "codemirror_mode": {
    "name": "ipython",
    "version": 3
   },
   "file_extension": ".py",
   "mimetype": "text/x-python",
   "name": "python",
   "nbconvert_exporter": "python",
   "pygments_lexer": "ipython3",
   "version": "3.8.5"
  }
 },
 "nbformat": 4,
 "nbformat_minor": 1
}
